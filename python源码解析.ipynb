{
 "cells": [
  {
   "cell_type": "markdown",
   "metadata": {},
   "source": [
    "代码路径：python/dgl"
   ]
  },
  {
   "cell_type": "code",
   "execution_count": 1,
   "metadata": {},
   "outputs": [],
   "source": [
    "import dgl"
   ]
  },
  {
   "cell_type": "markdown",
   "metadata": {},
   "source": [
    "构造一张图，因此我们先来分析dgl.DGLGraph，\n",
    "直接从代码路径里未找到dgl.DGLGraph\n",
    "u = np.concatenate([src, dst])\n",
    "v = np.concatenate([dst, src])\n",
    "##Construct a DGLGraph\n",
    "dgl.DGLGraph((u, v))"
   ]
  },
  {
   "cell_type": "code",
   "execution_count": null,
   "metadata": {},
   "outputs": [],
   "source": [
    "#用以下方式查看dgl，源码如下，可以看到在dgl模块的__init__.py中引入了常用库\n",
    "??dgl\n",
    "\n",
    "Type:        module\n",
    "String form: <module 'dgl' from 'D:\\\\Program Files\\\\anaconda3\\\\lib\\\\site-packages\\\\dgl\\\\__init__.py'>\n",
    "File:        d:\\program files\\anaconda3\\lib\\site-packages\\dgl\\__init__.py\n",
    "Source:     \n",
    "\"\"\"DGL root package.\"\"\"\n",
    "# Windows compatibility\n",
    "# This initializes Winsock and performs cleanup at termination as required\n",
    "import socket\n",
    "\n",
    "# Need to ensure that the backend framework is imported before load dgl libs,\n",
    "# otherwise weird cuda problem happens\n",
    "from .backend import load_backend\n",
    "\n",
    "from . import function\n",
    "from . import nn\n",
    "from . import contrib\n",
    "from . import container\n",
    "from . import random\n",
    "\n",
    "from ._ffi.runtime_ctypes import TypeCode\n",
    "from ._ffi.function import register_func, get_global_func, list_global_func_names, extract_ext_funcs\n",
    "from ._ffi.base import DGLError, __version__\n",
    "\n",
    "from .base import ALL, NTYPE, NID, ETYPE, EID\n",
    "from .batched_graph import *\n",
    "from .batched_heterograph import *\n",
    "from .convert import *\n",
    "from .graph import DGLGraph\n",
    "from .heterograph import DGLHeteroGraph\n",
    "from .nodeflow import *\n",
    "from .traversal import *\n",
    "from .transform import *\n",
    "from .propagate import *\n",
    "from .udf import NodeBatch, EdgeBatch"
   ]
  },
  {
   "cell_type": "markdown",
   "metadata": {},
   "source": [
    "#在graph.py中可以看到\n",
    "DGL graph accepts graph data of multiple formats:\n",
    "\n",
    "    * NetworkX graph,\n",
    "    * scipy matrix,\n",
    "    * DGLGraph.\n",
    "DGL接受3种图格式输入，NetworkX，DGLGraph可以理解，scipy matrix个人认为是数据+结构的方式，本质上没有太大区别；\n",
    "\n",
    "If the input graph data is DGLGraph, the constructed DGLGraph only contains its graph index.\n",
    "这个好理解，即图数据未重新构造，仅引用原图；"
   ]
  },
  {
   "cell_type": "markdown",
   "metadata": {},
   "source": [
    "构造边，方式比较灵活\n",
    "Add one edge at a time,\n",
    "\n",
    ">>> G.add_edge(0, 1)\n",
    "\n",
    "or multiple edges,\n",
    "\n",
    ">>> G.add_edges([1, 2, 3], [3, 4, 5])  # three edges: 1->3, 2->4, 3->5\n",
    "\n",
    "or multiple edges starting from the same node,\n",
    "\n",
    ">>> G.add_edges(4, [7, 8, 9])  # three edges: 4->7, 4->8, 4->9\n",
    "\n",
    "or multiple edges pointing to the same node,\n",
    "\n",
    ">>> G.add_edges([2, 6, 8], 5)  # three edges: 2->5, 6->5, 8->5"
   ]
  },
  {
   "cell_type": "markdown",
   "metadata": {},
   "source": [
    ".. note:: Here we use pytorch syntax for demo. The general idea applies\n",
    "    to other frameworks with minor syntax change (e.g. replace\n",
    "    ``torch.tensor`` with ``mxnet.ndarray``).\n",
    "\n",
    ">>> import torch as th\n",
    ">>> G.add_edges(th.tensor([3, 4, 5]), 1)  # three edges: 3->1, 4->1, 5->1\n",
    "\n",
    "NOTE: Removing nodes and edges is not supported by DGLGraph.\n",
    "DGLGraph不支持remove操作"
   ]
  },
  {
   "cell_type": "markdown",
   "metadata": {},
   "source": [
    "**Features:**\n",
    "\n",
    "Both nodes and edges can have feature data. Features are stored as\n",
    "key/value pair. The key must be #hashable while the value must be tensor\n",
    "type. Features are batched on the first dimension."
   ]
  },
  {
   "cell_type": "code",
   "execution_count": 8,
   "metadata": {},
   "outputs": [],
   "source": [
    "import numpy as np\n",
    "\n",
    "def build_karate_club_graph():\n",
    "    # All 78 edges are stored in two numpy arrays. One for source endpoints\n",
    "    # while the other for destination endpoints.\n",
    "    src = np.array([1, 2, 2, 3, 3, 3, 4, 5, 6, 6, 6, 7, 7, 7, 7, 8, 8, 9, 10, 10,\n",
    "        10, 11, 12, 12, 13, 13, 13, 13, 16, 16, 17, 17, 19, 19, 21, 21,\n",
    "        25, 25, 27, 27, 27, 28, 29, 29, 30, 30, 31, 31, 31, 31, 32, 32,\n",
    "        32, 32, 32, 32, 32, 32, 32, 32, 32, 33, 33, 33, 33, 33, 33, 33,\n",
    "        33, 33, 33, 33, 33, 33, 33, 33, 33, 33])\n",
    "    dst = np.array([0, 0, 1, 0, 1, 2, 0, 0, 0, 4, 5, 0, 1, 2, 3, 0, 2, 2, 0, 4,\n",
    "        5, 0, 0, 3, 0, 1, 2, 3, 5, 6, 0, 1, 0, 1, 0, 1, 23, 24, 2, 23,\n",
    "        24, 2, 23, 26, 1, 8, 0, 24, 25, 28, 2, 8, 14, 15, 18, 20, 22, 23,\n",
    "        29, 30, 31, 8, 9, 13, 14, 15, 18, 19, 20, 22, 23, 26, 27, 28, 29, 30,\n",
    "        31, 32])\n",
    "    # Edges are directional in DGL; Make them bi-directional.\n",
    "    u = np.concatenate([src, dst])\n",
    "    v = np.concatenate([dst, src])\n",
    "    # Construct a DGLGraph\n",
    "    return dgl.DGLGraph((u, v))"
   ]
  },
  {
   "cell_type": "code",
   "execution_count": 9,
   "metadata": {},
   "outputs": [
    {
     "name": "stdout",
     "output_type": "stream",
     "text": [
      "We have 34 nodes.\n",
      "We have 156 edges.\n"
     ]
    }
   ],
   "source": [
    "G = build_karate_club_graph()\n",
    "print('We have %d nodes.' % G.number_of_nodes())\n",
    "print('We have %d edges.' % G.number_of_edges())"
   ]
  },
  {
   "cell_type": "markdown",
   "metadata": {},
   "source": [
    "先构造一张图，再来解释图的属性"
   ]
  },
  {
   "cell_type": "markdown",
   "metadata": {},
   "source": [
    "if isinstance(graph_data, DGLGraph):\n",
    "    gidx = graph_data._graph\n",
    "    if sort_csr:\n",
    "        gidx.sort_csr()\n",
    "else:\n",
    "    if multigraph is not None:\n",
    "        dgl_warning(\"multigraph will be deprecated.\" \\\n",
    "                    \"DGL will treat all graphs as multigraph in the future.\")\n",
    "    gidx = graph_index.create_graph_index(graph_data, readonly)\n",
    "    if sort_csr:\n",
    "        gidx.sort_csr()\n",
    "super(DGLGraph, self).__init__(gidx)"
   ]
  },
  {
   "cell_type": "markdown",
   "metadata": {},
   "source": [
    "对以上代码进行解析"
   ]
  },
  {
   "cell_type": "code",
   "execution_count": 16,
   "metadata": {},
   "outputs": [
    {
     "data": {
      "text/plain": [
       "<dgl.graph_index.GraphIndex at 0x1b171192c48>"
      ]
     },
     "execution_count": 16,
     "metadata": {},
     "output_type": "execute_result"
    }
   ],
   "source": [
    "G._graph"
   ]
  },
  {
   "cell_type": "markdown",
   "metadata": {},
   "source": [
    "可以看到是graph_index下面的类\n",
    "class GraphIndex(ObjectBase):\n",
    "    \"\"\"Graph index object."
   ]
  },
  {
   "cell_type": "markdown",
   "metadata": {},
   "source": [
    "#gidx.sort_csr()\n",
    "def sort_csr(self):\n",
    "    \"\"\"Sort the CSR matrix in the graph index.\n",
    "\n",
    "    By default, when the CSR matrix is created, the edges may be stored\n",
    "    in an arbitrary order. Sometimes, we want to sort them to accelerate\n",
    "    some computation. For example, `has_edges_between` can be much faster\n",
    "    on a giant adjacency matrix if the edges in the matrix is sorted.\n",
    "    \"\"\"\n",
    "    _CAPI_DGLSortAdj(self)\n",
    "可以看到，sort_csr用来对稀疏矩阵进行排序，为了加速计算；"
   ]
  },
  {
   "cell_type": "code",
   "execution_count": null,
   "metadata": {},
   "outputs": [],
   "source": []
  }
 ],
 "metadata": {
  "kernelspec": {
   "display_name": "Python 3",
   "language": "python",
   "name": "python3"
  },
  "language_info": {
   "codemirror_mode": {
    "name": "ipython",
    "version": 3
   },
   "file_extension": ".py",
   "mimetype": "text/x-python",
   "name": "python",
   "nbconvert_exporter": "python",
   "pygments_lexer": "ipython3",
   "version": "3.7.4"
  }
 },
 "nbformat": 4,
 "nbformat_minor": 2
}
